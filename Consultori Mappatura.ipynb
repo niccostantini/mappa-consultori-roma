{
 "cells": [
  {
   "cell_type": "code",
   "execution_count": 1,
   "id": "646c5632-2820-4aa4-948d-52683e08d2a6",
   "metadata": {},
   "outputs": [],
   "source": [
    "# Importa\n",
    "import pandas as pd\n",
    "import folium\n",
    "from geopy.geocoders import Nominatim\n",
    "import os\n",
    "from tqdm import tqdm\n",
    "import sys"
   ]
  },
  {
   "cell_type": "code",
   "execution_count": 2,
   "id": "d0d99e90-3467-44e5-a9b2-621c18e2820f",
   "metadata": {},
   "outputs": [],
   "source": [
    "# Carica il file CSV\n",
    "file_path = './consultori-roma-mail-orari.csv'\n",
    "data = pd.read_csv(file_path)"
   ]
  },
  {
   "cell_type": "code",
   "execution_count": 3,
   "id": "975eeb5c-078a-4896-9ac8-524671c559cc",
   "metadata": {},
   "outputs": [],
   "source": [
    "# Crea l'oggetto geocoder\n",
    "geolocator = Nominatim(user_agent=\"consultori_mapper\")"
   ]
  },
  {
   "cell_type": "code",
   "execution_count": 4,
   "id": "392046e5-142b-4ef4-a91c-707b754d0a68",
   "metadata": {},
   "outputs": [],
   "source": [
    "# Creazione della mappa di Roma\n",
    "roma_map = folium.Map(location=[41.9028, 12.4964], zoom_start=12)  # Coordinate centrali di Roma"
   ]
  },
  {
   "cell_type": "code",
   "execution_count": 5,
   "id": "b43eba58-c5ea-4fc7-847d-639a0f1155da",
   "metadata": {},
   "outputs": [],
   "source": [
    "# Definisci colori per le diverse ASL\n",
    "asl_colors = {\n",
    "    'ROMA 1': 'blue',\n",
    "    'ROMA 2': 'green',\n",
    "    'ROMA 3': 'red',\n",
    "    'ROMA 4': 'purple',\n",
    "    'ROMA 5': 'orange',\n",
    "    'ROMA 6': 'darkred'\n",
    "}"
   ]
  },
  {
   "cell_type": "code",
   "execution_count": 6,
   "id": "af85552f-8bf5-4258-bcb8-e96cf63809be",
   "metadata": {},
   "outputs": [
    {
     "name": "stdout",
     "output_type": "stream",
     "text": [
      "Aggiunta marker consultori: 100%|███████████████████████████████████| 83/83 [00:45<00:00,  1.83it/s]\u001b[F\u001b[F\u001b[F\u001b[F\u001b[F\u001b[F\u001b[F\u001b[F\u001b[F\u001b[F\u001b[F\u001b[F\u001b[F\u001b[F\u001b[F\u001b[F\u001b[F\u001b[F\u001b[F\u001b[F\u001b[F\u001b[F\u001b[F\u001b[F\u001b[F\u001b[F\u001b[F\u001b[F\u001b[F\u001b[F\u001b[F\u001b[F\u001b[F\u001b[F\u001b[F\u001b[F\u001b[F\u001b[F\u001b[F\u001b[F\u001b[F\u001b[F\u001b[F\u001b[F\u001b[F\u001b[F\u001b[F\u001b[F\u001b[F\u001b[F\u001b[F\u001b[F\n"
     ]
    }
   ],
   "source": [
    "# Aggiunta di marker per ogni consultorio\n",
    "for index, row in tqdm(data.iterrows(), total=len(data), desc=\"Aggiunta marker consultori\", file=sys.stdout, ncols=100):\n",
    "    nome_consultorio = row['Consultorio Familiare']\n",
    "    asl = row['ASL']\n",
    "    indirizzo = row['Indirizzo']\n",
    "    telefono = row['Telefono']\n",
    "    orari = row['Orari']\n",
    "    contact = row['Email/sito']\n",
    "\n",
    "    # Ottieni le coordinate usando il geocoder\n",
    "    try:\n",
    "        location = geolocator.geocode(indirizzo + \", Roma\")\n",
    "        if location:\n",
    "            lat, lon = location.latitude, location.longitude\n",
    "\n",
    "            # Creazione del contenuto del popup\n",
    "            if '@' in contact or contact == \"n/d\":\n",
    "                popup_content = f\"\"\"\n",
    "                          <h4>{nome_consultorio}</h4>\n",
    "                          <i>{asl}</i>\n",
    "                          <br>\n",
    "                          <ul>\n",
    "                              <li style='list-style-type: square'><b>Indirizzo</b>: {indirizzo}\n",
    "                              <li style='list-style-type: square'><b>Telefono</b>: {telefono}\n",
    "                              <li style='list-style-type: square'><b>Email/sito</b>: {contact}\n",
    "                          </ul>\n",
    "                          <p>Orari apertura: <br>\n",
    "                          {orari}\n",
    "                          </p>\n",
    "                            \"\"\"\n",
    "            else:\n",
    "                popup_content = f\"\"\"\n",
    "                          <h4>{nome_consultorio}</h4>\n",
    "                          <i>{asl}</i>\n",
    "                          <br>\n",
    "                          <ul>\n",
    "                              <li style='list-style-type: square'><b>Indirizzo</b>: {indirizzo}\n",
    "                              <li style='list-style-type: square'><b>Telefono</b>: {telefono}\n",
    "                              <li style='list-style-type: square'><b>Email/sito</b>: <a href=\"https://{contact}\" target=\"_blank\">{contact}</a>\n",
    "                          </ul>\n",
    "                          <p>Orari apertura: <br>\n",
    "                          {orari}\n",
    "                          </p>\n",
    "                            \"\"\"\n",
    "\n",
    "            # Aggiungi un marker per il consultorio\n",
    "            folium.Marker(\n",
    "                location=[lat, lon],\n",
    "                popup=folium.Popup(popup_content, max_width=500),\n",
    "                icon=folium.Icon(color=asl_colors.get(asl, 'gray'), icon='info-sign')\n",
    "            ).add_to(roma_map)\n",
    "\n",
    "            # Clear the line to avoid clutter\n",
    "            sys.stdout.write(\"\\033[F\")\n",
    "    except Exception as e:\n",
    "        print(f\"Errore nel geocoding per {indirizzo}: {e}\")"
   ]
  },
  {
   "cell_type": "code",
   "execution_count": 7,
   "id": "4e1903c5-b331-4d41-a3a1-bb90dd36d8fe",
   "metadata": {},
   "outputs": [
    {
     "data": {
      "text/plain": [
       "<branca.element.Element at 0x137c24aa0>"
      ]
     },
     "execution_count": 7,
     "metadata": {},
     "output_type": "execute_result"
    }
   ],
   "source": [
    "# Aggiungi una legenda alla mappa\n",
    "legend_html = '''\n",
    "<div style=\"position: fixed; \n",
    "            bottom: 50px; left: 50px; width: fit-content; height: fit-content; \n",
    "            background-color: white; z-index:9999; font-size:14px; opacity: 0.8; border-radius: 6px;\n",
    "            border:2px solid grey; padding: 10px;\">\n",
    "    <b>Legenda ASL</b><br>\n",
    "    <i class=\"fa fa-map-marker fa-2x\" style=\"color:blue\"></i> ROMA 1<br>\n",
    "    <i class=\"fa fa-map-marker fa-2x\" style=\"color:green\"></i> ROMA 2<br>\n",
    "    <i class=\"fa fa-map-marker fa-2x\" style=\"color:red\"></i> ROMA 3<br>\n",
    "    <i class=\"fa fa-map-marker fa-2x\" style=\"color:purple\"></i> ROMA 4<br>\n",
    "    <i class=\"fa fa-map-marker fa-2x\" style=\"color:orange\"></i> ROMA 5<br>\n",
    "    <i class=\"fa fa-map-marker fa-2x\" style=\"color:darkred\"></i> ROMA 6<br>\n",
    "</div>\n",
    "'''\n",
    "roma_map.get_root().html.add_child(folium.Element(legend_html))"
   ]
  },
  {
   "cell_type": "code",
   "execution_count": 8,
   "id": "7afa946e-f622-4563-953b-05ae4d8f24fb",
   "metadata": {},
   "outputs": [
    {
     "name": "stdout",
     "output_type": "stream",
     "text": [
      "Mappa salvata come ./consultori_roma_map.html\n"
     ]
    }
   ],
   "source": [
    "# Salvataggio della mappa in un file HTML nella stessa directory del file CSV\n",
    "output_path = os.path.join(os.path.dirname(file_path), 'consultori_roma_map.html')\n",
    "roma_map.save(output_path)\n",
    "print(f\"Mappa salvata come {output_path}\")"
   ]
  },
  {
   "cell_type": "code",
   "execution_count": null,
   "id": "062d8a5c-e3f8-4483-b93c-90c58571d31b",
   "metadata": {},
   "outputs": [],
   "source": []
  }
 ],
 "metadata": {
  "kernelspec": {
   "display_name": "Python 3 (ipykernel)",
   "language": "python",
   "name": "python3"
  },
  "language_info": {
   "codemirror_mode": {
    "name": "ipython",
    "version": 3
   },
   "file_extension": ".py",
   "mimetype": "text/x-python",
   "name": "python",
   "nbconvert_exporter": "python",
   "pygments_lexer": "ipython3",
   "version": "3.12.7"
  }
 },
 "nbformat": 4,
 "nbformat_minor": 5
}
